{
 "cells": [
  {
   "cell_type": "markdown",
   "id": "1d36a005",
   "metadata": {},
   "source": [
    "# Scrapping forecast data from a weather forecast website"
   ]
  },
  {
   "cell_type": "code",
   "execution_count": 2,
   "id": "00176f10",
   "metadata": {},
   "outputs": [],
   "source": [
    "from bs4 import BeautifulSoup\n",
    "from urllib.request import urlopen"
   ]
  },
  {
   "cell_type": "code",
   "execution_count": 5,
   "id": "11ba8350",
   "metadata": {},
   "outputs": [
    {
     "name": "stdout",
     "output_type": "stream",
     "text": [
      "<div class=\"tombstone-container\">\n",
      " <p class=\"period-name\">\n",
      "  Tonight\n",
      "  <br/>\n",
      "  <br/>\n",
      " </p>\n",
      " <p>\n",
      "  <img alt=\"Tonight: Mostly clear, with a low around 40. Light and variable wind becoming north northeast 5 to 8 mph in the evening. \" class=\"forecast-icon\" src=\"newimages/medium/nfew.png\" title=\"Tonight: Mostly clear, with a low around 40. Light and variable wind becoming north northeast 5 to 8 mph in the evening. \"/>\n",
      " </p>\n",
      " <p class=\"short-desc\">\n",
      "  Mostly Clear\n",
      " </p>\n",
      " <p class=\"temp temp-low\">\n",
      "  Low: 40 °F\n",
      " </p>\n",
      "</div>\n"
     ]
    }
   ],
   "source": [
    "page = urlopen(\"https://forecast.weather.gov/MapClick.php?lat=37.7772&lon=-122.4168#.Y5uGXOxBxpQ\")\n",
    "soup = BeautifulSoup(page, 'html.parser')\n",
    "seven_day = soup.find(id = 'seven-day-forecast')\n",
    "forecast_items = seven_day.find_all(class_ = 'tombstone-container')\n",
    "first_forecast_item = forecast_items[0]\n",
    "print(first_forecast_item.prettify())"
   ]
  },
  {
   "cell_type": "code",
   "execution_count": 4,
   "id": "f4f59ef3",
   "metadata": {},
   "outputs": [
    {
     "name": "stdout",
     "output_type": "stream",
     "text": [
      "Tonight\n",
      "Mostly Clear\n",
      "Low: 40 °F\n"
     ]
    }
   ],
   "source": [
    "period = first_forecast_item.find(class_='period-name').get_text()\n",
    "short_desc = first_forecast_item.find(class_ = 'short-desc').get_text()\n",
    "temp = first_forecast_item.find(class_ = 'temp').get_text()\n",
    "\n",
    "print(period)\n",
    "print(short_desc)\n",
    "print(temp)"
   ]
  },
  {
   "cell_type": "code",
   "execution_count": 5,
   "id": "cdeee74a",
   "metadata": {},
   "outputs": [
    {
     "name": "stdout",
     "output_type": "stream",
     "text": [
      "Tonight: Mostly clear, with a low around 40. Light and variable wind becoming north northeast 5 to 8 mph in the evening. \n"
     ]
    }
   ],
   "source": [
    "description = first_forecast_item.find('img')\n",
    "desc = description['title']\n",
    "print(desc)"
   ]
  },
  {
   "cell_type": "markdown",
   "id": "f0ab8627",
   "metadata": {},
   "source": [
    "### Now do it all over using the loop function to account for every forecast item"
   ]
  },
  {
   "cell_type": "code",
   "execution_count": 6,
   "id": "0d43a311",
   "metadata": {},
   "outputs": [
    {
     "data": {
      "text/plain": [
       "['Tonight',\n",
       " 'Friday',\n",
       " 'FridayNight',\n",
       " 'Saturday',\n",
       " 'SaturdayNight',\n",
       " 'Sunday',\n",
       " 'SundayNight',\n",
       " 'Monday',\n",
       " 'MondayNight']"
      ]
     },
     "execution_count": 6,
     "metadata": {},
     "output_type": "execute_result"
    }
   ],
   "source": [
    "period_tags = seven_day.select('.tombstone-container .period-name')\n",
    "\n",
    "periods = [pt.get_text() for pt in period_tags]\n",
    "periods"
   ]
  },
  {
   "cell_type": "code",
   "execution_count": 7,
   "id": "f005a59a",
   "metadata": {},
   "outputs": [
    {
     "data": {
      "text/plain": [
       "['Mostly Clear',\n",
       " 'Sunny',\n",
       " 'Mostly Clear',\n",
       " 'Sunny',\n",
       " 'Mostly Clear',\n",
       " 'Sunny',\n",
       " 'Partly Cloudy',\n",
       " 'Partly Sunny',\n",
       " 'Slight ChanceRain']"
      ]
     },
     "execution_count": 7,
     "metadata": {},
     "output_type": "execute_result"
    }
   ],
   "source": [
    "short_desc_tags = seven_day.select('.tombstone-container .short-desc')\n",
    "\n",
    "short_descriptions = [sd.get_text() for sd in short_desc_tags]\n",
    "short_descriptions"
   ]
  },
  {
   "cell_type": "code",
   "execution_count": 8,
   "id": "54d3d5f2",
   "metadata": {},
   "outputs": [
    {
     "data": {
      "text/plain": [
       "['Low: 40 °F',\n",
       " 'High: 57 °F',\n",
       " 'Low: 40 °F',\n",
       " 'High: 56 °F',\n",
       " 'Low: 39 °F',\n",
       " 'High: 55 °F',\n",
       " 'Low: 40 °F',\n",
       " 'High: 54 °F',\n",
       " 'Low: 43 °F']"
      ]
     },
     "execution_count": 8,
     "metadata": {},
     "output_type": "execute_result"
    }
   ],
   "source": [
    "temp_tags = seven_day.select(' .tombstone-container .temp')\n",
    "\n",
    "temps = [tmp.get_text() for tmp in temp_tags]\n",
    "temps"
   ]
  },
  {
   "cell_type": "code",
   "execution_count": 9,
   "id": "722f38c3",
   "metadata": {},
   "outputs": [
    {
     "data": {
      "text/plain": [
       "['Tonight: Mostly clear, with a low around 40. Light and variable wind becoming north northeast 5 to 8 mph in the evening. ',\n",
       " 'Friday: Sunny, with a high near 57. Light east wind becoming northeast 5 to 9 mph in the morning. ',\n",
       " 'Friday Night: Mostly clear, with a low around 40. East wind 6 to 8 mph. ',\n",
       " 'Saturday: Sunny, with a high near 56. Calm wind becoming north 5 to 7 mph in the afternoon. ',\n",
       " 'Saturday Night: Mostly clear, with a low around 39. North wind 3 to 5 mph. ',\n",
       " 'Sunday: Sunny, with a high near 55.',\n",
       " 'Sunday Night: Partly cloudy, with a low around 40.',\n",
       " 'Monday: Partly sunny, with a high near 54.',\n",
       " 'Monday Night: A slight chance of rain after 10pm.  Mostly cloudy, with a low around 43.']"
      ]
     },
     "execution_count": 9,
     "metadata": {},
     "output_type": "execute_result"
    }
   ],
   "source": [
    "# There is no .img because img is not a class but a string in the html\n",
    "\n",
    "desc_tags = seven_day.select('.tombstone-container img')\n",
    "\n",
    "descriptions = [desc['title'] for desc in desc_tags]\n",
    "descriptions"
   ]
  },
  {
   "attachments": {},
   "cell_type": "markdown",
   "id": "803ea8b3",
   "metadata": {},
   "source": [
    "### Combining our data into pandas Dataframe"
   ]
  },
  {
   "cell_type": "code",
   "execution_count": 10,
   "id": "ad39b11f",
   "metadata": {},
   "outputs": [],
   "source": [
    "import pandas as pd"
   ]
  },
  {
   "cell_type": "code",
   "execution_count": 11,
   "id": "7e2baeeb",
   "metadata": {},
   "outputs": [],
   "source": [
    "df = pd.DataFrame({'Description': descriptions, 'Period': periods,'Short Description': short_descriptions, 'Temperature': temps})"
   ]
  },
  {
   "cell_type": "code",
   "execution_count": 12,
   "id": "9c86f796",
   "metadata": {},
   "outputs": [
    {
     "data": {
      "text/html": [
       "<div>\n",
       "<style scoped>\n",
       "    .dataframe tbody tr th:only-of-type {\n",
       "        vertical-align: middle;\n",
       "    }\n",
       "\n",
       "    .dataframe tbody tr th {\n",
       "        vertical-align: top;\n",
       "    }\n",
       "\n",
       "    .dataframe thead th {\n",
       "        text-align: right;\n",
       "    }\n",
       "</style>\n",
       "<table border=\"1\" class=\"dataframe\">\n",
       "  <thead>\n",
       "    <tr style=\"text-align: right;\">\n",
       "      <th></th>\n",
       "      <th>Description</th>\n",
       "      <th>Period</th>\n",
       "      <th>Short Description</th>\n",
       "      <th>Temperature</th>\n",
       "    </tr>\n",
       "  </thead>\n",
       "  <tbody>\n",
       "    <tr>\n",
       "      <th>0</th>\n",
       "      <td>Tonight: Mostly clear, with a low around 40. L...</td>\n",
       "      <td>Tonight</td>\n",
       "      <td>Mostly Clear</td>\n",
       "      <td>Low: 40 °F</td>\n",
       "    </tr>\n",
       "    <tr>\n",
       "      <th>1</th>\n",
       "      <td>Friday: Sunny, with a high near 57. Light east...</td>\n",
       "      <td>Friday</td>\n",
       "      <td>Sunny</td>\n",
       "      <td>High: 57 °F</td>\n",
       "    </tr>\n",
       "    <tr>\n",
       "      <th>2</th>\n",
       "      <td>Friday Night: Mostly clear, with a low around ...</td>\n",
       "      <td>FridayNight</td>\n",
       "      <td>Mostly Clear</td>\n",
       "      <td>Low: 40 °F</td>\n",
       "    </tr>\n",
       "    <tr>\n",
       "      <th>3</th>\n",
       "      <td>Saturday: Sunny, with a high near 56. Calm win...</td>\n",
       "      <td>Saturday</td>\n",
       "      <td>Sunny</td>\n",
       "      <td>High: 56 °F</td>\n",
       "    </tr>\n",
       "    <tr>\n",
       "      <th>4</th>\n",
       "      <td>Saturday Night: Mostly clear, with a low aroun...</td>\n",
       "      <td>SaturdayNight</td>\n",
       "      <td>Mostly Clear</td>\n",
       "      <td>Low: 39 °F</td>\n",
       "    </tr>\n",
       "    <tr>\n",
       "      <th>5</th>\n",
       "      <td>Sunday: Sunny, with a high near 55.</td>\n",
       "      <td>Sunday</td>\n",
       "      <td>Sunny</td>\n",
       "      <td>High: 55 °F</td>\n",
       "    </tr>\n",
       "    <tr>\n",
       "      <th>6</th>\n",
       "      <td>Sunday Night: Partly cloudy, with a low around...</td>\n",
       "      <td>SundayNight</td>\n",
       "      <td>Partly Cloudy</td>\n",
       "      <td>Low: 40 °F</td>\n",
       "    </tr>\n",
       "    <tr>\n",
       "      <th>7</th>\n",
       "      <td>Monday: Partly sunny, with a high near 54.</td>\n",
       "      <td>Monday</td>\n",
       "      <td>Partly Sunny</td>\n",
       "      <td>High: 54 °F</td>\n",
       "    </tr>\n",
       "    <tr>\n",
       "      <th>8</th>\n",
       "      <td>Monday Night: A slight chance of rain after 10...</td>\n",
       "      <td>MondayNight</td>\n",
       "      <td>Slight ChanceRain</td>\n",
       "      <td>Low: 43 °F</td>\n",
       "    </tr>\n",
       "  </tbody>\n",
       "</table>\n",
       "</div>"
      ],
      "text/plain": [
       "                                         Description         Period  \\\n",
       "0  Tonight: Mostly clear, with a low around 40. L...        Tonight   \n",
       "1  Friday: Sunny, with a high near 57. Light east...         Friday   \n",
       "2  Friday Night: Mostly clear, with a low around ...    FridayNight   \n",
       "3  Saturday: Sunny, with a high near 56. Calm win...       Saturday   \n",
       "4  Saturday Night: Mostly clear, with a low aroun...  SaturdayNight   \n",
       "5                Sunday: Sunny, with a high near 55.         Sunday   \n",
       "6  Sunday Night: Partly cloudy, with a low around...    SundayNight   \n",
       "7         Monday: Partly sunny, with a high near 54.         Monday   \n",
       "8  Monday Night: A slight chance of rain after 10...    MondayNight   \n",
       "\n",
       "   Short Description  Temperature  \n",
       "0       Mostly Clear   Low: 40 °F  \n",
       "1              Sunny  High: 57 °F  \n",
       "2       Mostly Clear   Low: 40 °F  \n",
       "3              Sunny  High: 56 °F  \n",
       "4       Mostly Clear   Low: 39 °F  \n",
       "5              Sunny  High: 55 °F  \n",
       "6      Partly Cloudy   Low: 40 °F  \n",
       "7       Partly Sunny  High: 54 °F  \n",
       "8  Slight ChanceRain   Low: 43 °F  "
      ]
     },
     "execution_count": 12,
     "metadata": {},
     "output_type": "execute_result"
    }
   ],
   "source": [
    "df"
   ]
  },
  {
   "cell_type": "code",
   "execution_count": null,
   "id": "4f90aaa1",
   "metadata": {},
   "outputs": [],
   "source": []
  }
 ],
 "metadata": {
  "kernelspec": {
   "display_name": "base",
   "language": "python",
   "name": "python3"
  },
  "language_info": {
   "codemirror_mode": {
    "name": "ipython",
    "version": 3
   },
   "file_extension": ".py",
   "mimetype": "text/x-python",
   "name": "python",
   "nbconvert_exporter": "python",
   "pygments_lexer": "ipython3",
   "version": "3.9.7"
  },
  "vscode": {
   "interpreter": {
    "hash": "40d3a090f54c6569ab1632332b64b2c03c39dcf918b08424e98f38b5ae0af88f"
   }
  }
 },
 "nbformat": 4,
 "nbformat_minor": 5
}
